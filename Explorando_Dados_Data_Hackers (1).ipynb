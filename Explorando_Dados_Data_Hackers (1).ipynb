{
  "nbformat": 4,
  "nbformat_minor": 0,
  "metadata": {
    "colab": {
      "name": "Explorando-Dados-Data-Hackers",
      "provenance": []
    },
    "kernelspec": {
      "name": "python3",
      "display_name": "Python 3"
    },
    "language_info": {
      "name": "python"
    }
  },
  "cells": [
    {
      "cell_type": "markdown",
      "source": [
        "# Quais os principais perfis dos cientistas de dados?"
      ],
      "metadata": {
        "id": "aqVd6u7t3yJZ"
      }
    },
    {
      "cell_type": "markdown",
      "source": [
        "# Selecionando colunas que serão usadas, limpando os NAs, e renomeando colunas para melhor entendimento do dataframe"
      ],
      "metadata": {
        "id": "pZtLLbDF48Gj"
      }
    },
    {
      "cell_type": "code",
      "execution_count": 1,
      "metadata": {
        "id": "VfCz2ITyEp-M"
      },
      "outputs": [],
      "source": [
        "\n",
        "import pandas as pd\n",
        "import numpy as np\n",
        "import matplotlib.pyplot as plt\n",
        "\n"
      ]
    },
    {
      "cell_type": "code",
      "source": [
        "df = pd.read_csv(\"/content/state-of-data-2021.csv\")"
      ],
      "metadata": {
        "colab": {
          "base_uri": "https://localhost:8080/"
        },
        "id": "Xi2J0QdtJwLi",
        "outputId": "f2cce5be-6e36-4a02-d174-7406a210e467"
      },
      "execution_count": 2,
      "outputs": [
        {
          "output_type": "stream",
          "name": "stderr",
          "text": [
            "/usr/local/lib/python3.7/dist-packages/IPython/core/interactiveshell.py:2882: DtypeWarning: Columns (47) have mixed types.Specify dtype option on import or set low_memory=False.\n",
            "  exec(code_obj, self.user_global_ns, self.user_ns)\n"
          ]
        }
      ]
    },
    {
      "cell_type": "code",
      "source": [
        "df.head()"
      ],
      "metadata": {
        "colab": {
          "base_uri": "https://localhost:8080/",
          "height": 664
        },
        "id": "vW7jJALSIVfH",
        "outputId": "25aa4031-39c7-475a-ca57-3a4093f507ed"
      },
      "execution_count": 3,
      "outputs": [
        {
          "output_type": "execute_result",
          "data": {
            "text/plain": [
              "                       ('P0', 'id')  ('P1_a ', 'Idade')  \\\n",
              "0  qkx4q0ei90wcjxnqkx4q0j3xgf0zn13s                38.0   \n",
              "1  zdl2n19yhgpnoaco6kkczdl2nwv9zwrt                39.0   \n",
              "2  vsamqp2un3q7us84mgvsams5fulsmcoh                30.0   \n",
              "3  v31ab41botodnsv31zgg4k34zzojy81l                38.0   \n",
              "4  ubhu8ntvm4xc0sfkdubhu80e973eek0k                36.0   \n",
              "\n",
              "  ('P1_a_a ', 'Faixa idade') ('P1_b ', 'Genero')  \\\n",
              "0                      35-39           Masculino   \n",
              "1                      35-39           Masculino   \n",
              "2                      30-34           Masculino   \n",
              "3                      35-39            Feminino   \n",
              "4                      35-39           Masculino   \n",
              "\n",
              "  ('P1_e ', 'Estado onde mora') ('P1_e_a ', 'uf onde mora')  \\\n",
              "0                    Ceará (CE)                          CE   \n",
              "1                    Bahia (BA)                          BA   \n",
              "2           Santa Catarina (SC)                          SC   \n",
              "3                São Paulo (SP)                          SP   \n",
              "4           Santa Catarina (SC)                          SC   \n",
              "\n",
              "  ('P1_e_b ', 'Regiao onde mora') ('P1_g_b ', 'Regiao de origem')  \\\n",
              "0                        Nordeste                             NaN   \n",
              "1                        Nordeste                         Sudeste   \n",
              "2                             Sul                             NaN   \n",
              "3                         Sudeste                             NaN   \n",
              "4                             Sul                             NaN   \n",
              "\n",
              "   ('P1_g_c ', 'Mudou de Estado?') ('P1_h ', 'Nivel de Ensino')  ...  \\\n",
              "0                                0                Pós-graduação  ...   \n",
              "1                                1                Pós-graduação  ...   \n",
              "2                                0                Pós-graduação  ...   \n",
              "3                                0                Pós-graduação  ...   \n",
              "4                                0                Pós-graduação  ...   \n",
              "\n",
              "  ('P8_d_g ', 'Criando e dando manutenção em ETLs, DAGs e automações de pipelines de dados.')  \\\n",
              "0                                                NaN                                            \n",
              "1                                                NaN                                            \n",
              "2                                                NaN                                            \n",
              "3                                                NaN                                            \n",
              "4                                                NaN                                            \n",
              "\n",
              "  ('P8_d_h ', 'Criando e gerenciando soluções de Feature Store e cultura de MLOps.')  \\\n",
              "0                                                NaN                                   \n",
              "1                                                NaN                                   \n",
              "2                                                NaN                                   \n",
              "3                                                NaN                                   \n",
              "4                                                NaN                                   \n",
              "\n",
              "  ('P8_d_i ', 'Criando e mantendo a infra que meus modelos e soluções rodam (clusters, servidores, API, containers, etc.)')  \\\n",
              "0                                                NaN                                                                          \n",
              "1                                                NaN                                                                          \n",
              "2                                                NaN                                                                          \n",
              "3                                                NaN                                                                          \n",
              "4                                                NaN                                                                          \n",
              "\n",
              "  ('P9_a ', 'Quais das iniciativas do Data Hackers que você já acessou/acompanhou?')  \\\n",
              "0        Newsletter Semanal, Podcast do Data Hackers                                   \n",
              "1    Newsletter Semanal, Blog/Medium do Data Hackers                                   \n",
              "2  Blog/Medium do Data Hackers, Podcast do Data H...                                   \n",
              "3                  Ainda não conhecia o Data Hackers                                   \n",
              "4  Podcast do Data Hackers, Canal do Slack, Newsl...                                   \n",
              "\n",
              "   ('P9_a_a ', 'Blog/Medium do Data Hackers')  \\\n",
              "0                                           0   \n",
              "1                                           1   \n",
              "2                                           1   \n",
              "3                                           0   \n",
              "4                                           0   \n",
              "\n",
              "  ('P9_a_b ', 'Podcast do Data Hackers') ('P9_a_d ', 'Newsletter Semanal')  \\\n",
              "0                                      1                                 1   \n",
              "1                                      0                                 1   \n",
              "2                                      1                                 0   \n",
              "3                                      0                                 0   \n",
              "4                                      1                                 1   \n",
              "\n",
              "  ('P9_a_e ', 'Canal do Slack')  \\\n",
              "0                             0   \n",
              "1                             0   \n",
              "2                             0   \n",
              "3                             0   \n",
              "4                             1   \n",
              "\n",
              "  ('P9_a_f ', 'Canal do Youtube do Data Hackers')  \\\n",
              "0                                               0   \n",
              "1                                               0   \n",
              "2                                               0   \n",
              "3                                               0   \n",
              "4                                               0   \n",
              "\n",
              "  ('P9_a_g ', 'Ainda não conhecia o Data Hackers')  \n",
              "0                                                0  \n",
              "1                                                0  \n",
              "2                                                0  \n",
              "3                                                1  \n",
              "4                                                0  \n",
              "\n",
              "[5 rows x 356 columns]"
            ],
            "text/html": [
              "\n",
              "  <div id=\"df-8901c721-676a-438c-b5fa-f83fc9b00c82\">\n",
              "    <div class=\"colab-df-container\">\n",
              "      <div>\n",
              "<style scoped>\n",
              "    .dataframe tbody tr th:only-of-type {\n",
              "        vertical-align: middle;\n",
              "    }\n",
              "\n",
              "    .dataframe tbody tr th {\n",
              "        vertical-align: top;\n",
              "    }\n",
              "\n",
              "    .dataframe thead th {\n",
              "        text-align: right;\n",
              "    }\n",
              "</style>\n",
              "<table border=\"1\" class=\"dataframe\">\n",
              "  <thead>\n",
              "    <tr style=\"text-align: right;\">\n",
              "      <th></th>\n",
              "      <th>('P0', 'id')</th>\n",
              "      <th>('P1_a ', 'Idade')</th>\n",
              "      <th>('P1_a_a ', 'Faixa idade')</th>\n",
              "      <th>('P1_b ', 'Genero')</th>\n",
              "      <th>('P1_e ', 'Estado onde mora')</th>\n",
              "      <th>('P1_e_a ', 'uf onde mora')</th>\n",
              "      <th>('P1_e_b ', 'Regiao onde mora')</th>\n",
              "      <th>('P1_g_b ', 'Regiao de origem')</th>\n",
              "      <th>('P1_g_c ', 'Mudou de Estado?')</th>\n",
              "      <th>('P1_h ', 'Nivel de Ensino')</th>\n",
              "      <th>...</th>\n",
              "      <th>('P8_d_g ', 'Criando e dando manutenção em ETLs, DAGs e automações de pipelines de dados.')</th>\n",
              "      <th>('P8_d_h ', 'Criando e gerenciando soluções de Feature Store e cultura de MLOps.')</th>\n",
              "      <th>('P8_d_i ', 'Criando e mantendo a infra que meus modelos e soluções rodam (clusters, servidores, API, containers, etc.)')</th>\n",
              "      <th>('P9_a ', 'Quais das iniciativas do Data Hackers que você já acessou/acompanhou?')</th>\n",
              "      <th>('P9_a_a ', 'Blog/Medium do Data Hackers')</th>\n",
              "      <th>('P9_a_b ', 'Podcast do Data Hackers')</th>\n",
              "      <th>('P9_a_d ', 'Newsletter Semanal')</th>\n",
              "      <th>('P9_a_e ', 'Canal do Slack')</th>\n",
              "      <th>('P9_a_f ', 'Canal do Youtube do Data Hackers')</th>\n",
              "      <th>('P9_a_g ', 'Ainda não conhecia o Data Hackers')</th>\n",
              "    </tr>\n",
              "  </thead>\n",
              "  <tbody>\n",
              "    <tr>\n",
              "      <th>0</th>\n",
              "      <td>qkx4q0ei90wcjxnqkx4q0j3xgf0zn13s</td>\n",
              "      <td>38.0</td>\n",
              "      <td>35-39</td>\n",
              "      <td>Masculino</td>\n",
              "      <td>Ceará (CE)</td>\n",
              "      <td>CE</td>\n",
              "      <td>Nordeste</td>\n",
              "      <td>NaN</td>\n",
              "      <td>0</td>\n",
              "      <td>Pós-graduação</td>\n",
              "      <td>...</td>\n",
              "      <td>NaN</td>\n",
              "      <td>NaN</td>\n",
              "      <td>NaN</td>\n",
              "      <td>Newsletter Semanal, Podcast do Data Hackers</td>\n",
              "      <td>0</td>\n",
              "      <td>1</td>\n",
              "      <td>1</td>\n",
              "      <td>0</td>\n",
              "      <td>0</td>\n",
              "      <td>0</td>\n",
              "    </tr>\n",
              "    <tr>\n",
              "      <th>1</th>\n",
              "      <td>zdl2n19yhgpnoaco6kkczdl2nwv9zwrt</td>\n",
              "      <td>39.0</td>\n",
              "      <td>35-39</td>\n",
              "      <td>Masculino</td>\n",
              "      <td>Bahia (BA)</td>\n",
              "      <td>BA</td>\n",
              "      <td>Nordeste</td>\n",
              "      <td>Sudeste</td>\n",
              "      <td>1</td>\n",
              "      <td>Pós-graduação</td>\n",
              "      <td>...</td>\n",
              "      <td>NaN</td>\n",
              "      <td>NaN</td>\n",
              "      <td>NaN</td>\n",
              "      <td>Newsletter Semanal, Blog/Medium do Data Hackers</td>\n",
              "      <td>1</td>\n",
              "      <td>0</td>\n",
              "      <td>1</td>\n",
              "      <td>0</td>\n",
              "      <td>0</td>\n",
              "      <td>0</td>\n",
              "    </tr>\n",
              "    <tr>\n",
              "      <th>2</th>\n",
              "      <td>vsamqp2un3q7us84mgvsams5fulsmcoh</td>\n",
              "      <td>30.0</td>\n",
              "      <td>30-34</td>\n",
              "      <td>Masculino</td>\n",
              "      <td>Santa Catarina (SC)</td>\n",
              "      <td>SC</td>\n",
              "      <td>Sul</td>\n",
              "      <td>NaN</td>\n",
              "      <td>0</td>\n",
              "      <td>Pós-graduação</td>\n",
              "      <td>...</td>\n",
              "      <td>NaN</td>\n",
              "      <td>NaN</td>\n",
              "      <td>NaN</td>\n",
              "      <td>Blog/Medium do Data Hackers, Podcast do Data H...</td>\n",
              "      <td>1</td>\n",
              "      <td>1</td>\n",
              "      <td>0</td>\n",
              "      <td>0</td>\n",
              "      <td>0</td>\n",
              "      <td>0</td>\n",
              "    </tr>\n",
              "    <tr>\n",
              "      <th>3</th>\n",
              "      <td>v31ab41botodnsv31zgg4k34zzojy81l</td>\n",
              "      <td>38.0</td>\n",
              "      <td>35-39</td>\n",
              "      <td>Feminino</td>\n",
              "      <td>São Paulo (SP)</td>\n",
              "      <td>SP</td>\n",
              "      <td>Sudeste</td>\n",
              "      <td>NaN</td>\n",
              "      <td>0</td>\n",
              "      <td>Pós-graduação</td>\n",
              "      <td>...</td>\n",
              "      <td>NaN</td>\n",
              "      <td>NaN</td>\n",
              "      <td>NaN</td>\n",
              "      <td>Ainda não conhecia o Data Hackers</td>\n",
              "      <td>0</td>\n",
              "      <td>0</td>\n",
              "      <td>0</td>\n",
              "      <td>0</td>\n",
              "      <td>0</td>\n",
              "      <td>1</td>\n",
              "    </tr>\n",
              "    <tr>\n",
              "      <th>4</th>\n",
              "      <td>ubhu8ntvm4xc0sfkdubhu80e973eek0k</td>\n",
              "      <td>36.0</td>\n",
              "      <td>35-39</td>\n",
              "      <td>Masculino</td>\n",
              "      <td>Santa Catarina (SC)</td>\n",
              "      <td>SC</td>\n",
              "      <td>Sul</td>\n",
              "      <td>NaN</td>\n",
              "      <td>0</td>\n",
              "      <td>Pós-graduação</td>\n",
              "      <td>...</td>\n",
              "      <td>NaN</td>\n",
              "      <td>NaN</td>\n",
              "      <td>NaN</td>\n",
              "      <td>Podcast do Data Hackers, Canal do Slack, Newsl...</td>\n",
              "      <td>0</td>\n",
              "      <td>1</td>\n",
              "      <td>1</td>\n",
              "      <td>1</td>\n",
              "      <td>0</td>\n",
              "      <td>0</td>\n",
              "    </tr>\n",
              "  </tbody>\n",
              "</table>\n",
              "<p>5 rows × 356 columns</p>\n",
              "</div>\n",
              "      <button class=\"colab-df-convert\" onclick=\"convertToInteractive('df-8901c721-676a-438c-b5fa-f83fc9b00c82')\"\n",
              "              title=\"Convert this dataframe to an interactive table.\"\n",
              "              style=\"display:none;\">\n",
              "        \n",
              "  <svg xmlns=\"http://www.w3.org/2000/svg\" height=\"24px\"viewBox=\"0 0 24 24\"\n",
              "       width=\"24px\">\n",
              "    <path d=\"M0 0h24v24H0V0z\" fill=\"none\"/>\n",
              "    <path d=\"M18.56 5.44l.94 2.06.94-2.06 2.06-.94-2.06-.94-.94-2.06-.94 2.06-2.06.94zm-11 1L8.5 8.5l.94-2.06 2.06-.94-2.06-.94L8.5 2.5l-.94 2.06-2.06.94zm10 10l.94 2.06.94-2.06 2.06-.94-2.06-.94-.94-2.06-.94 2.06-2.06.94z\"/><path d=\"M17.41 7.96l-1.37-1.37c-.4-.4-.92-.59-1.43-.59-.52 0-1.04.2-1.43.59L10.3 9.45l-7.72 7.72c-.78.78-.78 2.05 0 2.83L4 21.41c.39.39.9.59 1.41.59.51 0 1.02-.2 1.41-.59l7.78-7.78 2.81-2.81c.8-.78.8-2.07 0-2.86zM5.41 20L4 18.59l7.72-7.72 1.47 1.35L5.41 20z\"/>\n",
              "  </svg>\n",
              "      </button>\n",
              "      \n",
              "  <style>\n",
              "    .colab-df-container {\n",
              "      display:flex;\n",
              "      flex-wrap:wrap;\n",
              "      gap: 12px;\n",
              "    }\n",
              "\n",
              "    .colab-df-convert {\n",
              "      background-color: #E8F0FE;\n",
              "      border: none;\n",
              "      border-radius: 50%;\n",
              "      cursor: pointer;\n",
              "      display: none;\n",
              "      fill: #1967D2;\n",
              "      height: 32px;\n",
              "      padding: 0 0 0 0;\n",
              "      width: 32px;\n",
              "    }\n",
              "\n",
              "    .colab-df-convert:hover {\n",
              "      background-color: #E2EBFA;\n",
              "      box-shadow: 0px 1px 2px rgba(60, 64, 67, 0.3), 0px 1px 3px 1px rgba(60, 64, 67, 0.15);\n",
              "      fill: #174EA6;\n",
              "    }\n",
              "\n",
              "    [theme=dark] .colab-df-convert {\n",
              "      background-color: #3B4455;\n",
              "      fill: #D2E3FC;\n",
              "    }\n",
              "\n",
              "    [theme=dark] .colab-df-convert:hover {\n",
              "      background-color: #434B5C;\n",
              "      box-shadow: 0px 1px 3px 1px rgba(0, 0, 0, 0.15);\n",
              "      filter: drop-shadow(0px 1px 2px rgba(0, 0, 0, 0.3));\n",
              "      fill: #FFFFFF;\n",
              "    }\n",
              "  </style>\n",
              "\n",
              "      <script>\n",
              "        const buttonEl =\n",
              "          document.querySelector('#df-8901c721-676a-438c-b5fa-f83fc9b00c82 button.colab-df-convert');\n",
              "        buttonEl.style.display =\n",
              "          google.colab.kernel.accessAllowed ? 'block' : 'none';\n",
              "\n",
              "        async function convertToInteractive(key) {\n",
              "          const element = document.querySelector('#df-8901c721-676a-438c-b5fa-f83fc9b00c82');\n",
              "          const dataTable =\n",
              "            await google.colab.kernel.invokeFunction('convertToInteractive',\n",
              "                                                     [key], {});\n",
              "          if (!dataTable) return;\n",
              "\n",
              "          const docLinkHtml = 'Like what you see? Visit the ' +\n",
              "            '<a target=\"_blank\" href=https://colab.research.google.com/notebooks/data_table.ipynb>data table notebook</a>'\n",
              "            + ' to learn more about interactive tables.';\n",
              "          element.innerHTML = '';\n",
              "          dataTable['output_type'] = 'display_data';\n",
              "          await google.colab.output.renderOutput(dataTable, element);\n",
              "          const docLink = document.createElement('div');\n",
              "          docLink.innerHTML = docLinkHtml;\n",
              "          element.appendChild(docLink);\n",
              "        }\n",
              "      </script>\n",
              "    </div>\n",
              "  </div>\n",
              "  "
            ]
          },
          "metadata": {},
          "execution_count": 3
        }
      ]
    },
    {
      "cell_type": "code",
      "source": [
        "dataframe = df.iloc[:,1:10].copy()"
      ],
      "metadata": {
        "id": "jgAX_8lsO5bi"
      },
      "execution_count": 4,
      "outputs": []
    },
    {
      "cell_type": "code",
      "source": [
        "dataframe.head()"
      ],
      "metadata": {
        "colab": {
          "base_uri": "https://localhost:8080/",
          "height": 424
        },
        "id": "JRP5iblVQ4Na",
        "outputId": "edac96f6-2319-4131-875f-e3b28ced085f"
      },
      "execution_count": 5,
      "outputs": [
        {
          "output_type": "execute_result",
          "data": {
            "text/plain": [
              "   ('P1_a ', 'Idade') ('P1_a_a ', 'Faixa idade') ('P1_b ', 'Genero')  \\\n",
              "0                38.0                      35-39           Masculino   \n",
              "1                39.0                      35-39           Masculino   \n",
              "2                30.0                      30-34           Masculino   \n",
              "3                38.0                      35-39            Feminino   \n",
              "4                36.0                      35-39           Masculino   \n",
              "\n",
              "  ('P1_e ', 'Estado onde mora') ('P1_e_a ', 'uf onde mora')  \\\n",
              "0                    Ceará (CE)                          CE   \n",
              "1                    Bahia (BA)                          BA   \n",
              "2           Santa Catarina (SC)                          SC   \n",
              "3                São Paulo (SP)                          SP   \n",
              "4           Santa Catarina (SC)                          SC   \n",
              "\n",
              "  ('P1_e_b ', 'Regiao onde mora') ('P1_g_b ', 'Regiao de origem')  \\\n",
              "0                        Nordeste                             NaN   \n",
              "1                        Nordeste                         Sudeste   \n",
              "2                             Sul                             NaN   \n",
              "3                         Sudeste                             NaN   \n",
              "4                             Sul                             NaN   \n",
              "\n",
              "   ('P1_g_c ', 'Mudou de Estado?') ('P1_h ', 'Nivel de Ensino')  \n",
              "0                                0                Pós-graduação  \n",
              "1                                1                Pós-graduação  \n",
              "2                                0                Pós-graduação  \n",
              "3                                0                Pós-graduação  \n",
              "4                                0                Pós-graduação  "
            ],
            "text/html": [
              "\n",
              "  <div id=\"df-72467b55-3dc3-4961-983c-3e014a6b80d7\">\n",
              "    <div class=\"colab-df-container\">\n",
              "      <div>\n",
              "<style scoped>\n",
              "    .dataframe tbody tr th:only-of-type {\n",
              "        vertical-align: middle;\n",
              "    }\n",
              "\n",
              "    .dataframe tbody tr th {\n",
              "        vertical-align: top;\n",
              "    }\n",
              "\n",
              "    .dataframe thead th {\n",
              "        text-align: right;\n",
              "    }\n",
              "</style>\n",
              "<table border=\"1\" class=\"dataframe\">\n",
              "  <thead>\n",
              "    <tr style=\"text-align: right;\">\n",
              "      <th></th>\n",
              "      <th>('P1_a ', 'Idade')</th>\n",
              "      <th>('P1_a_a ', 'Faixa idade')</th>\n",
              "      <th>('P1_b ', 'Genero')</th>\n",
              "      <th>('P1_e ', 'Estado onde mora')</th>\n",
              "      <th>('P1_e_a ', 'uf onde mora')</th>\n",
              "      <th>('P1_e_b ', 'Regiao onde mora')</th>\n",
              "      <th>('P1_g_b ', 'Regiao de origem')</th>\n",
              "      <th>('P1_g_c ', 'Mudou de Estado?')</th>\n",
              "      <th>('P1_h ', 'Nivel de Ensino')</th>\n",
              "    </tr>\n",
              "  </thead>\n",
              "  <tbody>\n",
              "    <tr>\n",
              "      <th>0</th>\n",
              "      <td>38.0</td>\n",
              "      <td>35-39</td>\n",
              "      <td>Masculino</td>\n",
              "      <td>Ceará (CE)</td>\n",
              "      <td>CE</td>\n",
              "      <td>Nordeste</td>\n",
              "      <td>NaN</td>\n",
              "      <td>0</td>\n",
              "      <td>Pós-graduação</td>\n",
              "    </tr>\n",
              "    <tr>\n",
              "      <th>1</th>\n",
              "      <td>39.0</td>\n",
              "      <td>35-39</td>\n",
              "      <td>Masculino</td>\n",
              "      <td>Bahia (BA)</td>\n",
              "      <td>BA</td>\n",
              "      <td>Nordeste</td>\n",
              "      <td>Sudeste</td>\n",
              "      <td>1</td>\n",
              "      <td>Pós-graduação</td>\n",
              "    </tr>\n",
              "    <tr>\n",
              "      <th>2</th>\n",
              "      <td>30.0</td>\n",
              "      <td>30-34</td>\n",
              "      <td>Masculino</td>\n",
              "      <td>Santa Catarina (SC)</td>\n",
              "      <td>SC</td>\n",
              "      <td>Sul</td>\n",
              "      <td>NaN</td>\n",
              "      <td>0</td>\n",
              "      <td>Pós-graduação</td>\n",
              "    </tr>\n",
              "    <tr>\n",
              "      <th>3</th>\n",
              "      <td>38.0</td>\n",
              "      <td>35-39</td>\n",
              "      <td>Feminino</td>\n",
              "      <td>São Paulo (SP)</td>\n",
              "      <td>SP</td>\n",
              "      <td>Sudeste</td>\n",
              "      <td>NaN</td>\n",
              "      <td>0</td>\n",
              "      <td>Pós-graduação</td>\n",
              "    </tr>\n",
              "    <tr>\n",
              "      <th>4</th>\n",
              "      <td>36.0</td>\n",
              "      <td>35-39</td>\n",
              "      <td>Masculino</td>\n",
              "      <td>Santa Catarina (SC)</td>\n",
              "      <td>SC</td>\n",
              "      <td>Sul</td>\n",
              "      <td>NaN</td>\n",
              "      <td>0</td>\n",
              "      <td>Pós-graduação</td>\n",
              "    </tr>\n",
              "  </tbody>\n",
              "</table>\n",
              "</div>\n",
              "      <button class=\"colab-df-convert\" onclick=\"convertToInteractive('df-72467b55-3dc3-4961-983c-3e014a6b80d7')\"\n",
              "              title=\"Convert this dataframe to an interactive table.\"\n",
              "              style=\"display:none;\">\n",
              "        \n",
              "  <svg xmlns=\"http://www.w3.org/2000/svg\" height=\"24px\"viewBox=\"0 0 24 24\"\n",
              "       width=\"24px\">\n",
              "    <path d=\"M0 0h24v24H0V0z\" fill=\"none\"/>\n",
              "    <path d=\"M18.56 5.44l.94 2.06.94-2.06 2.06-.94-2.06-.94-.94-2.06-.94 2.06-2.06.94zm-11 1L8.5 8.5l.94-2.06 2.06-.94-2.06-.94L8.5 2.5l-.94 2.06-2.06.94zm10 10l.94 2.06.94-2.06 2.06-.94-2.06-.94-.94-2.06-.94 2.06-2.06.94z\"/><path d=\"M17.41 7.96l-1.37-1.37c-.4-.4-.92-.59-1.43-.59-.52 0-1.04.2-1.43.59L10.3 9.45l-7.72 7.72c-.78.78-.78 2.05 0 2.83L4 21.41c.39.39.9.59 1.41.59.51 0 1.02-.2 1.41-.59l7.78-7.78 2.81-2.81c.8-.78.8-2.07 0-2.86zM5.41 20L4 18.59l7.72-7.72 1.47 1.35L5.41 20z\"/>\n",
              "  </svg>\n",
              "      </button>\n",
              "      \n",
              "  <style>\n",
              "    .colab-df-container {\n",
              "      display:flex;\n",
              "      flex-wrap:wrap;\n",
              "      gap: 12px;\n",
              "    }\n",
              "\n",
              "    .colab-df-convert {\n",
              "      background-color: #E8F0FE;\n",
              "      border: none;\n",
              "      border-radius: 50%;\n",
              "      cursor: pointer;\n",
              "      display: none;\n",
              "      fill: #1967D2;\n",
              "      height: 32px;\n",
              "      padding: 0 0 0 0;\n",
              "      width: 32px;\n",
              "    }\n",
              "\n",
              "    .colab-df-convert:hover {\n",
              "      background-color: #E2EBFA;\n",
              "      box-shadow: 0px 1px 2px rgba(60, 64, 67, 0.3), 0px 1px 3px 1px rgba(60, 64, 67, 0.15);\n",
              "      fill: #174EA6;\n",
              "    }\n",
              "\n",
              "    [theme=dark] .colab-df-convert {\n",
              "      background-color: #3B4455;\n",
              "      fill: #D2E3FC;\n",
              "    }\n",
              "\n",
              "    [theme=dark] .colab-df-convert:hover {\n",
              "      background-color: #434B5C;\n",
              "      box-shadow: 0px 1px 3px 1px rgba(0, 0, 0, 0.15);\n",
              "      filter: drop-shadow(0px 1px 2px rgba(0, 0, 0, 0.3));\n",
              "      fill: #FFFFFF;\n",
              "    }\n",
              "  </style>\n",
              "\n",
              "      <script>\n",
              "        const buttonEl =\n",
              "          document.querySelector('#df-72467b55-3dc3-4961-983c-3e014a6b80d7 button.colab-df-convert');\n",
              "        buttonEl.style.display =\n",
              "          google.colab.kernel.accessAllowed ? 'block' : 'none';\n",
              "\n",
              "        async function convertToInteractive(key) {\n",
              "          const element = document.querySelector('#df-72467b55-3dc3-4961-983c-3e014a6b80d7');\n",
              "          const dataTable =\n",
              "            await google.colab.kernel.invokeFunction('convertToInteractive',\n",
              "                                                     [key], {});\n",
              "          if (!dataTable) return;\n",
              "\n",
              "          const docLinkHtml = 'Like what you see? Visit the ' +\n",
              "            '<a target=\"_blank\" href=https://colab.research.google.com/notebooks/data_table.ipynb>data table notebook</a>'\n",
              "            + ' to learn more about interactive tables.';\n",
              "          element.innerHTML = '';\n",
              "          dataTable['output_type'] = 'display_data';\n",
              "          await google.colab.output.renderOutput(dataTable, element);\n",
              "          const docLink = document.createElement('div');\n",
              "          docLink.innerHTML = docLinkHtml;\n",
              "          element.appendChild(docLink);\n",
              "        }\n",
              "      </script>\n",
              "    </div>\n",
              "  </div>\n",
              "  "
            ]
          },
          "metadata": {},
          "execution_count": 5
        }
      ]
    },
    {
      "cell_type": "code",
      "source": [
        "dataframe = dataframe.rename(columns={\"('P1_a ', 'Idade')\": \"idade\", \"('P1_a_a ', 'Faixa idade')\": \"faixa_idade\", \"('P1_b ', 'Genero')\": \"gen\", \"('P1_e ', 'Estado onde mora')\":\"onde_mora\", \"('P1_e_a ', 'uf onde mora')\":\"uf\", \"('P1_e_b ', 'Regiao onde mora')\":\"regiao_do_BR\", \"('P1_g_b ', 'Regiao de origem')\":\"origem\", \"('P1_g_c ', 'Mudou de Estado?')\":\"mudou\", \"('P1_h ', 'Nivel de Ensino')\":\"educacao\"})"
      ],
      "metadata": {
        "id": "g2tifxNNRfjD"
      },
      "execution_count": 6,
      "outputs": []
    },
    {
      "cell_type": "code",
      "source": [
        "dataframe.head()"
      ],
      "metadata": {
        "colab": {
          "base_uri": "https://localhost:8080/",
          "height": 206
        },
        "id": "2hLbykWPS55F",
        "outputId": "9c7d04b7-49a0-4f21-e70a-f3ca50935f61"
      },
      "execution_count": 7,
      "outputs": [
        {
          "output_type": "execute_result",
          "data": {
            "text/plain": [
              "   idade faixa_idade        gen            onde_mora  uf regiao_do_BR  \\\n",
              "0   38.0       35-39  Masculino           Ceará (CE)  CE     Nordeste   \n",
              "1   39.0       35-39  Masculino           Bahia (BA)  BA     Nordeste   \n",
              "2   30.0       30-34  Masculino  Santa Catarina (SC)  SC          Sul   \n",
              "3   38.0       35-39   Feminino       São Paulo (SP)  SP      Sudeste   \n",
              "4   36.0       35-39  Masculino  Santa Catarina (SC)  SC          Sul   \n",
              "\n",
              "    origem  mudou       educacao  \n",
              "0      NaN      0  Pós-graduação  \n",
              "1  Sudeste      1  Pós-graduação  \n",
              "2      NaN      0  Pós-graduação  \n",
              "3      NaN      0  Pós-graduação  \n",
              "4      NaN      0  Pós-graduação  "
            ],
            "text/html": [
              "\n",
              "  <div id=\"df-65a5dbf4-6d1e-4142-9f84-403e39a96c40\">\n",
              "    <div class=\"colab-df-container\">\n",
              "      <div>\n",
              "<style scoped>\n",
              "    .dataframe tbody tr th:only-of-type {\n",
              "        vertical-align: middle;\n",
              "    }\n",
              "\n",
              "    .dataframe tbody tr th {\n",
              "        vertical-align: top;\n",
              "    }\n",
              "\n",
              "    .dataframe thead th {\n",
              "        text-align: right;\n",
              "    }\n",
              "</style>\n",
              "<table border=\"1\" class=\"dataframe\">\n",
              "  <thead>\n",
              "    <tr style=\"text-align: right;\">\n",
              "      <th></th>\n",
              "      <th>idade</th>\n",
              "      <th>faixa_idade</th>\n",
              "      <th>gen</th>\n",
              "      <th>onde_mora</th>\n",
              "      <th>uf</th>\n",
              "      <th>regiao_do_BR</th>\n",
              "      <th>origem</th>\n",
              "      <th>mudou</th>\n",
              "      <th>educacao</th>\n",
              "    </tr>\n",
              "  </thead>\n",
              "  <tbody>\n",
              "    <tr>\n",
              "      <th>0</th>\n",
              "      <td>38.0</td>\n",
              "      <td>35-39</td>\n",
              "      <td>Masculino</td>\n",
              "      <td>Ceará (CE)</td>\n",
              "      <td>CE</td>\n",
              "      <td>Nordeste</td>\n",
              "      <td>NaN</td>\n",
              "      <td>0</td>\n",
              "      <td>Pós-graduação</td>\n",
              "    </tr>\n",
              "    <tr>\n",
              "      <th>1</th>\n",
              "      <td>39.0</td>\n",
              "      <td>35-39</td>\n",
              "      <td>Masculino</td>\n",
              "      <td>Bahia (BA)</td>\n",
              "      <td>BA</td>\n",
              "      <td>Nordeste</td>\n",
              "      <td>Sudeste</td>\n",
              "      <td>1</td>\n",
              "      <td>Pós-graduação</td>\n",
              "    </tr>\n",
              "    <tr>\n",
              "      <th>2</th>\n",
              "      <td>30.0</td>\n",
              "      <td>30-34</td>\n",
              "      <td>Masculino</td>\n",
              "      <td>Santa Catarina (SC)</td>\n",
              "      <td>SC</td>\n",
              "      <td>Sul</td>\n",
              "      <td>NaN</td>\n",
              "      <td>0</td>\n",
              "      <td>Pós-graduação</td>\n",
              "    </tr>\n",
              "    <tr>\n",
              "      <th>3</th>\n",
              "      <td>38.0</td>\n",
              "      <td>35-39</td>\n",
              "      <td>Feminino</td>\n",
              "      <td>São Paulo (SP)</td>\n",
              "      <td>SP</td>\n",
              "      <td>Sudeste</td>\n",
              "      <td>NaN</td>\n",
              "      <td>0</td>\n",
              "      <td>Pós-graduação</td>\n",
              "    </tr>\n",
              "    <tr>\n",
              "      <th>4</th>\n",
              "      <td>36.0</td>\n",
              "      <td>35-39</td>\n",
              "      <td>Masculino</td>\n",
              "      <td>Santa Catarina (SC)</td>\n",
              "      <td>SC</td>\n",
              "      <td>Sul</td>\n",
              "      <td>NaN</td>\n",
              "      <td>0</td>\n",
              "      <td>Pós-graduação</td>\n",
              "    </tr>\n",
              "  </tbody>\n",
              "</table>\n",
              "</div>\n",
              "      <button class=\"colab-df-convert\" onclick=\"convertToInteractive('df-65a5dbf4-6d1e-4142-9f84-403e39a96c40')\"\n",
              "              title=\"Convert this dataframe to an interactive table.\"\n",
              "              style=\"display:none;\">\n",
              "        \n",
              "  <svg xmlns=\"http://www.w3.org/2000/svg\" height=\"24px\"viewBox=\"0 0 24 24\"\n",
              "       width=\"24px\">\n",
              "    <path d=\"M0 0h24v24H0V0z\" fill=\"none\"/>\n",
              "    <path d=\"M18.56 5.44l.94 2.06.94-2.06 2.06-.94-2.06-.94-.94-2.06-.94 2.06-2.06.94zm-11 1L8.5 8.5l.94-2.06 2.06-.94-2.06-.94L8.5 2.5l-.94 2.06-2.06.94zm10 10l.94 2.06.94-2.06 2.06-.94-2.06-.94-.94-2.06-.94 2.06-2.06.94z\"/><path d=\"M17.41 7.96l-1.37-1.37c-.4-.4-.92-.59-1.43-.59-.52 0-1.04.2-1.43.59L10.3 9.45l-7.72 7.72c-.78.78-.78 2.05 0 2.83L4 21.41c.39.39.9.59 1.41.59.51 0 1.02-.2 1.41-.59l7.78-7.78 2.81-2.81c.8-.78.8-2.07 0-2.86zM5.41 20L4 18.59l7.72-7.72 1.47 1.35L5.41 20z\"/>\n",
              "  </svg>\n",
              "      </button>\n",
              "      \n",
              "  <style>\n",
              "    .colab-df-container {\n",
              "      display:flex;\n",
              "      flex-wrap:wrap;\n",
              "      gap: 12px;\n",
              "    }\n",
              "\n",
              "    .colab-df-convert {\n",
              "      background-color: #E8F0FE;\n",
              "      border: none;\n",
              "      border-radius: 50%;\n",
              "      cursor: pointer;\n",
              "      display: none;\n",
              "      fill: #1967D2;\n",
              "      height: 32px;\n",
              "      padding: 0 0 0 0;\n",
              "      width: 32px;\n",
              "    }\n",
              "\n",
              "    .colab-df-convert:hover {\n",
              "      background-color: #E2EBFA;\n",
              "      box-shadow: 0px 1px 2px rgba(60, 64, 67, 0.3), 0px 1px 3px 1px rgba(60, 64, 67, 0.15);\n",
              "      fill: #174EA6;\n",
              "    }\n",
              "\n",
              "    [theme=dark] .colab-df-convert {\n",
              "      background-color: #3B4455;\n",
              "      fill: #D2E3FC;\n",
              "    }\n",
              "\n",
              "    [theme=dark] .colab-df-convert:hover {\n",
              "      background-color: #434B5C;\n",
              "      box-shadow: 0px 1px 3px 1px rgba(0, 0, 0, 0.15);\n",
              "      filter: drop-shadow(0px 1px 2px rgba(0, 0, 0, 0.3));\n",
              "      fill: #FFFFFF;\n",
              "    }\n",
              "  </style>\n",
              "\n",
              "      <script>\n",
              "        const buttonEl =\n",
              "          document.querySelector('#df-65a5dbf4-6d1e-4142-9f84-403e39a96c40 button.colab-df-convert');\n",
              "        buttonEl.style.display =\n",
              "          google.colab.kernel.accessAllowed ? 'block' : 'none';\n",
              "\n",
              "        async function convertToInteractive(key) {\n",
              "          const element = document.querySelector('#df-65a5dbf4-6d1e-4142-9f84-403e39a96c40');\n",
              "          const dataTable =\n",
              "            await google.colab.kernel.invokeFunction('convertToInteractive',\n",
              "                                                     [key], {});\n",
              "          if (!dataTable) return;\n",
              "\n",
              "          const docLinkHtml = 'Like what you see? Visit the ' +\n",
              "            '<a target=\"_blank\" href=https://colab.research.google.com/notebooks/data_table.ipynb>data table notebook</a>'\n",
              "            + ' to learn more about interactive tables.';\n",
              "          element.innerHTML = '';\n",
              "          dataTable['output_type'] = 'display_data';\n",
              "          await google.colab.output.renderOutput(dataTable, element);\n",
              "          const docLink = document.createElement('div');\n",
              "          docLink.innerHTML = docLinkHtml;\n",
              "          element.appendChild(docLink);\n",
              "        }\n",
              "      </script>\n",
              "    </div>\n",
              "  </div>\n",
              "  "
            ]
          },
          "metadata": {},
          "execution_count": 7
        }
      ]
    },
    {
      "cell_type": "code",
      "source": [
        "dataframe = dataframe.drop(columns=[\"origem\"])\n",
        "dataframe= dataframe.drop(columns=['mudou'],axis=1)\n",
        "dataframe.head()\n",
        "df = dataframe.dropna()\n",
        "df.head()\n",
        "\n"
      ],
      "metadata": {
        "colab": {
          "base_uri": "https://localhost:8080/",
          "height": 206
        },
        "id": "mbcph_WsUXUu",
        "outputId": "abbe26d7-cf77-4395-ee17-4c5bc0df13e6"
      },
      "execution_count": 8,
      "outputs": [
        {
          "output_type": "execute_result",
          "data": {
            "text/plain": [
              "   idade faixa_idade        gen            onde_mora  uf regiao_do_BR  \\\n",
              "0   38.0       35-39  Masculino           Ceará (CE)  CE     Nordeste   \n",
              "1   39.0       35-39  Masculino           Bahia (BA)  BA     Nordeste   \n",
              "2   30.0       30-34  Masculino  Santa Catarina (SC)  SC          Sul   \n",
              "3   38.0       35-39   Feminino       São Paulo (SP)  SP      Sudeste   \n",
              "4   36.0       35-39  Masculino  Santa Catarina (SC)  SC          Sul   \n",
              "\n",
              "        educacao  \n",
              "0  Pós-graduação  \n",
              "1  Pós-graduação  \n",
              "2  Pós-graduação  \n",
              "3  Pós-graduação  \n",
              "4  Pós-graduação  "
            ],
            "text/html": [
              "\n",
              "  <div id=\"df-cc133185-6c69-4c50-8a12-e915386e8323\">\n",
              "    <div class=\"colab-df-container\">\n",
              "      <div>\n",
              "<style scoped>\n",
              "    .dataframe tbody tr th:only-of-type {\n",
              "        vertical-align: middle;\n",
              "    }\n",
              "\n",
              "    .dataframe tbody tr th {\n",
              "        vertical-align: top;\n",
              "    }\n",
              "\n",
              "    .dataframe thead th {\n",
              "        text-align: right;\n",
              "    }\n",
              "</style>\n",
              "<table border=\"1\" class=\"dataframe\">\n",
              "  <thead>\n",
              "    <tr style=\"text-align: right;\">\n",
              "      <th></th>\n",
              "      <th>idade</th>\n",
              "      <th>faixa_idade</th>\n",
              "      <th>gen</th>\n",
              "      <th>onde_mora</th>\n",
              "      <th>uf</th>\n",
              "      <th>regiao_do_BR</th>\n",
              "      <th>educacao</th>\n",
              "    </tr>\n",
              "  </thead>\n",
              "  <tbody>\n",
              "    <tr>\n",
              "      <th>0</th>\n",
              "      <td>38.0</td>\n",
              "      <td>35-39</td>\n",
              "      <td>Masculino</td>\n",
              "      <td>Ceará (CE)</td>\n",
              "      <td>CE</td>\n",
              "      <td>Nordeste</td>\n",
              "      <td>Pós-graduação</td>\n",
              "    </tr>\n",
              "    <tr>\n",
              "      <th>1</th>\n",
              "      <td>39.0</td>\n",
              "      <td>35-39</td>\n",
              "      <td>Masculino</td>\n",
              "      <td>Bahia (BA)</td>\n",
              "      <td>BA</td>\n",
              "      <td>Nordeste</td>\n",
              "      <td>Pós-graduação</td>\n",
              "    </tr>\n",
              "    <tr>\n",
              "      <th>2</th>\n",
              "      <td>30.0</td>\n",
              "      <td>30-34</td>\n",
              "      <td>Masculino</td>\n",
              "      <td>Santa Catarina (SC)</td>\n",
              "      <td>SC</td>\n",
              "      <td>Sul</td>\n",
              "      <td>Pós-graduação</td>\n",
              "    </tr>\n",
              "    <tr>\n",
              "      <th>3</th>\n",
              "      <td>38.0</td>\n",
              "      <td>35-39</td>\n",
              "      <td>Feminino</td>\n",
              "      <td>São Paulo (SP)</td>\n",
              "      <td>SP</td>\n",
              "      <td>Sudeste</td>\n",
              "      <td>Pós-graduação</td>\n",
              "    </tr>\n",
              "    <tr>\n",
              "      <th>4</th>\n",
              "      <td>36.0</td>\n",
              "      <td>35-39</td>\n",
              "      <td>Masculino</td>\n",
              "      <td>Santa Catarina (SC)</td>\n",
              "      <td>SC</td>\n",
              "      <td>Sul</td>\n",
              "      <td>Pós-graduação</td>\n",
              "    </tr>\n",
              "  </tbody>\n",
              "</table>\n",
              "</div>\n",
              "      <button class=\"colab-df-convert\" onclick=\"convertToInteractive('df-cc133185-6c69-4c50-8a12-e915386e8323')\"\n",
              "              title=\"Convert this dataframe to an interactive table.\"\n",
              "              style=\"display:none;\">\n",
              "        \n",
              "  <svg xmlns=\"http://www.w3.org/2000/svg\" height=\"24px\"viewBox=\"0 0 24 24\"\n",
              "       width=\"24px\">\n",
              "    <path d=\"M0 0h24v24H0V0z\" fill=\"none\"/>\n",
              "    <path d=\"M18.56 5.44l.94 2.06.94-2.06 2.06-.94-2.06-.94-.94-2.06-.94 2.06-2.06.94zm-11 1L8.5 8.5l.94-2.06 2.06-.94-2.06-.94L8.5 2.5l-.94 2.06-2.06.94zm10 10l.94 2.06.94-2.06 2.06-.94-2.06-.94-.94-2.06-.94 2.06-2.06.94z\"/><path d=\"M17.41 7.96l-1.37-1.37c-.4-.4-.92-.59-1.43-.59-.52 0-1.04.2-1.43.59L10.3 9.45l-7.72 7.72c-.78.78-.78 2.05 0 2.83L4 21.41c.39.39.9.59 1.41.59.51 0 1.02-.2 1.41-.59l7.78-7.78 2.81-2.81c.8-.78.8-2.07 0-2.86zM5.41 20L4 18.59l7.72-7.72 1.47 1.35L5.41 20z\"/>\n",
              "  </svg>\n",
              "      </button>\n",
              "      \n",
              "  <style>\n",
              "    .colab-df-container {\n",
              "      display:flex;\n",
              "      flex-wrap:wrap;\n",
              "      gap: 12px;\n",
              "    }\n",
              "\n",
              "    .colab-df-convert {\n",
              "      background-color: #E8F0FE;\n",
              "      border: none;\n",
              "      border-radius: 50%;\n",
              "      cursor: pointer;\n",
              "      display: none;\n",
              "      fill: #1967D2;\n",
              "      height: 32px;\n",
              "      padding: 0 0 0 0;\n",
              "      width: 32px;\n",
              "    }\n",
              "\n",
              "    .colab-df-convert:hover {\n",
              "      background-color: #E2EBFA;\n",
              "      box-shadow: 0px 1px 2px rgba(60, 64, 67, 0.3), 0px 1px 3px 1px rgba(60, 64, 67, 0.15);\n",
              "      fill: #174EA6;\n",
              "    }\n",
              "\n",
              "    [theme=dark] .colab-df-convert {\n",
              "      background-color: #3B4455;\n",
              "      fill: #D2E3FC;\n",
              "    }\n",
              "\n",
              "    [theme=dark] .colab-df-convert:hover {\n",
              "      background-color: #434B5C;\n",
              "      box-shadow: 0px 1px 3px 1px rgba(0, 0, 0, 0.15);\n",
              "      filter: drop-shadow(0px 1px 2px rgba(0, 0, 0, 0.3));\n",
              "      fill: #FFFFFF;\n",
              "    }\n",
              "  </style>\n",
              "\n",
              "      <script>\n",
              "        const buttonEl =\n",
              "          document.querySelector('#df-cc133185-6c69-4c50-8a12-e915386e8323 button.colab-df-convert');\n",
              "        buttonEl.style.display =\n",
              "          google.colab.kernel.accessAllowed ? 'block' : 'none';\n",
              "\n",
              "        async function convertToInteractive(key) {\n",
              "          const element = document.querySelector('#df-cc133185-6c69-4c50-8a12-e915386e8323');\n",
              "          const dataTable =\n",
              "            await google.colab.kernel.invokeFunction('convertToInteractive',\n",
              "                                                     [key], {});\n",
              "          if (!dataTable) return;\n",
              "\n",
              "          const docLinkHtml = 'Like what you see? Visit the ' +\n",
              "            '<a target=\"_blank\" href=https://colab.research.google.com/notebooks/data_table.ipynb>data table notebook</a>'\n",
              "            + ' to learn more about interactive tables.';\n",
              "          element.innerHTML = '';\n",
              "          dataTable['output_type'] = 'display_data';\n",
              "          await google.colab.output.renderOutput(dataTable, element);\n",
              "          const docLink = document.createElement('div');\n",
              "          docLink.innerHTML = docLinkHtml;\n",
              "          element.appendChild(docLink);\n",
              "        }\n",
              "      </script>\n",
              "    </div>\n",
              "  </div>\n",
              "  "
            ]
          },
          "metadata": {},
          "execution_count": 8
        }
      ]
    },
    {
      "cell_type": "markdown",
      "source": [
        "##Qual é a idade, gênero, região, escolaridade e outras variáveis, da parte majoritárias destes profissionais? \n"
      ],
      "metadata": {
        "id": "G6_MStRq4lPW"
      }
    },
    {
      "cell_type": "markdown",
      "source": [
        "# Análise das idades"
      ],
      "metadata": {
        "id": "qjGmFXCSHGnn"
      }
    },
    {
      "cell_type": "markdown",
      "source": [
        "## Qual é a mediana da idade dos entrevistados?"
      ],
      "metadata": {
        "id": "__Gtui6X6dXV"
      }
    },
    {
      "cell_type": "code",
      "source": [
        "np.median(df[\"idade\"])"
      ],
      "metadata": {
        "colab": {
          "base_uri": "https://localhost:8080/"
        },
        "id": "rU64O1Ty58Zn",
        "outputId": "56fb22ae-910d-491c-c4a8-7ec3cc9fd79c"
      },
      "execution_count": 9,
      "outputs": [
        {
          "output_type": "execute_result",
          "data": {
            "text/plain": [
              "30.0"
            ]
          },
          "metadata": {},
          "execution_count": 9
        }
      ]
    },
    {
      "cell_type": "markdown",
      "source": [
        "**30 anos**"
      ],
      "metadata": {
        "id": "o9n3NAjOuMbH"
      }
    },
    {
      "cell_type": "markdown",
      "source": [
        "## Qual é a idade média dos entrevistados?"
      ],
      "metadata": {
        "id": "a-sUQXCH6fts"
      }
    },
    {
      "cell_type": "code",
      "source": [
        "np.mean(df[\"idade\"]).round()"
      ],
      "metadata": {
        "colab": {
          "base_uri": "https://localhost:8080/"
        },
        "id": "WewRSngV6Slr",
        "outputId": "55744d31-01ae-4d3f-a567-f23dcb3f3e15"
      },
      "execution_count": null,
      "outputs": [
        {
          "output_type": "execute_result",
          "data": {
            "text/plain": [
              "31.0"
            ]
          },
          "metadata": {},
          "execution_count": 157
        }
      ]
    },
    {
      "cell_type": "markdown",
      "source": [
        "**31 anos**"
      ],
      "metadata": {
        "id": "Z8t60QltuWeC"
      }
    },
    {
      "cell_type": "markdown",
      "source": [
        "## Qual é a idade que mais se repete entre os entrevistados?"
      ],
      "metadata": {
        "id": "xXFQoq1v3ruU"
      }
    },
    {
      "cell_type": "code",
      "source": [
        "df['idade'].value_counts().sort_values(ascending=False)"
      ],
      "metadata": {
        "id": "gXqX2D9KAuAh",
        "outputId": "c6b3a955-33d8-43eb-a844-5bda8ca4950a",
        "colab": {
          "base_uri": "https://localhost:8080/"
        }
      },
      "execution_count": 10,
      "outputs": [
        {
          "output_type": "execute_result",
          "data": {
            "text/plain": [
              "26.0    170\n",
              "28.0    170\n",
              "27.0    166\n",
              "25.0    165\n",
              "29.0    155\n",
              "30.0    150\n",
              "24.0    134\n",
              "31.0    133\n",
              "32.0    122\n",
              "33.0    117\n",
              "34.0    104\n",
              "23.0    103\n",
              "35.0     93\n",
              "36.0     89\n",
              "38.0     74\n",
              "22.0     66\n",
              "39.0     61\n",
              "21.0     59\n",
              "37.0     56\n",
              "40.0     53\n",
              "42.0     44\n",
              "41.0     39\n",
              "20.0     36\n",
              "43.0     34\n",
              "46.0     29\n",
              "45.0     25\n",
              "44.0     22\n",
              "51.0     17\n",
              "49.0     15\n",
              "53.0     12\n",
              "50.0     12\n",
              "54.0     11\n",
              "48.0     11\n",
              "47.0     10\n",
              "19.0     10\n",
              "18.0      8\n",
              "52.0      6\n",
              "Name: idade, dtype: int64"
            ]
          },
          "metadata": {},
          "execution_count": 10
        }
      ]
    },
    {
      "cell_type": "markdown",
      "source": [
        "**26 e 28 anos**"
      ],
      "metadata": {
        "id": "KiCiE-Lz3zn5"
      }
    },
    {
      "cell_type": "code",
      "source": [
        "df.boxplot()"
      ],
      "metadata": {
        "colab": {
          "base_uri": "https://localhost:8080/",
          "height": 282
        },
        "id": "YFMARUqZ6l7q",
        "outputId": "30985bd7-e5a8-4c6e-c8de-8227e7b48d38"
      },
      "execution_count": null,
      "outputs": [
        {
          "output_type": "execute_result",
          "data": {
            "text/plain": [
              "<matplotlib.axes._subplots.AxesSubplot at 0x7f0481bae190>"
            ]
          },
          "metadata": {},
          "execution_count": 159
        },
        {
          "output_type": "display_data",
          "data": {
            "text/plain": [
              "<Figure size 432x288 with 1 Axes>"
            ],
            "image/png": "[encoded data removed]"
          },
          "metadata": {
            "needs_background": "light"
          }
        }
      ]
    },
    {
      "cell_type": "code",
      "source": [
        "plt.hist(df['idade'], bins=36, width=0.8)"
      ],
      "metadata": {
        "colab": {
          "base_uri": "https://localhost:8080/",
          "height": 404
        },
        "id": "MwBAoBms71LX",
        "outputId": "8481586a-540f-4bc2-e708-3c4d8139c62d"
      },
      "execution_count": null,
      "outputs": [
        {
          "output_type": "execute_result",
          "data": {
            "text/plain": [
              "(array([  8.,  10.,  36.,  59.,  66., 103., 134., 165., 170., 166., 170.,\n",
              "        155., 150., 133., 122., 117., 104.,  93.,  89.,  56.,  74.,  61.,\n",
              "         53.,  39.,  44.,  34.,  22.,  25.,  29.,  10.,  11.,  15.,  12.,\n",
              "         17.,   6.,  23.]),\n",
              " array([18., 19., 20., 21., 22., 23., 24., 25., 26., 27., 28., 29., 30.,\n",
              "        31., 32., 33., 34., 35., 36., 37., 38., 39., 40., 41., 42., 43.,\n",
              "        44., 45., 46., 47., 48., 49., 50., 51., 52., 53., 54.]),\n",
              " <a list of 36 Patch objects>)"
            ]
          },
          "metadata": {},
          "execution_count": 160
        },
        {
          "output_type": "display_data",
          "data": {
            "text/plain": [
              "<Figure size 432x288 with 1 Axes>"
            ],
            "image/png": "[encoded data removed]"
          },
          "metadata": {
            "needs_background": "light"
          }
        }
      ]
    },
    {
      "cell_type": "code",
      "source": [
        ""
      ],
      "metadata": {
        "id": "6N61dPVS8j70"
      },
      "execution_count": null,
      "outputs": []
    },
    {
      "cell_type": "markdown",
      "source": [
        ""
      ],
      "metadata": {
        "id": "CjIU89q9tj9W"
      }
    },
    {
      "cell_type": "markdown",
      "source": [
        "# Análise do gênero"
      ],
      "metadata": {
        "id": "Uc4UxUJQHQ7i"
      }
    },
    {
      "cell_type": "markdown",
      "source": [
        "## Qual é o gênero da maior parte dos entrevistados?"
      ],
      "metadata": {
        "id": "eRdiM8g7HuZ6"
      }
    },
    {
      "cell_type": "code",
      "source": [
        "df['gen'].mode()"
      ],
      "metadata": {
        "colab": {
          "base_uri": "https://localhost:8080/"
        },
        "id": "bHFk_nLfCyyg",
        "outputId": "9d59b65d-7fdc-4b2f-d099-7f1fd317b9de"
      },
      "execution_count": null,
      "outputs": [
        {
          "output_type": "execute_result",
          "data": {
            "text/plain": [
              "0    Masculino\n",
              "dtype: object"
            ]
          },
          "metadata": {},
          "execution_count": 127
        }
      ]
    },
    {
      "cell_type": "code",
      "source": [
        "df['gen'].value_counts()"
      ],
      "metadata": {
        "colab": {
          "base_uri": "https://localhost:8080/"
        },
        "id": "jwhkf4ZDH21f",
        "outputId": "5622ea5e-58a2-4c3e-81c0-b1f2b844ffa8"
      },
      "execution_count": null,
      "outputs": [
        {
          "output_type": "execute_result",
          "data": {
            "text/plain": [
              "Masculino    2087\n",
              "Feminino      486\n",
              "Outro           8\n",
              "Name: gen, dtype: int64"
            ]
          },
          "metadata": {},
          "execution_count": 128
        }
      ]
    },
    {
      "cell_type": "markdown",
      "source": [
        "**A maior parte dos entrevistados são do gênero masculino**"
      ],
      "metadata": {
        "id": "rizQi83Yus_S"
      }
    },
    {
      "cell_type": "markdown",
      "source": [
        "## Qual é a proporção dessa distribuição?"
      ],
      "metadata": {
        "id": "bv_bJMDgupUM"
      }
    },
    {
      "cell_type": "code",
      "source": [
        "gen_masc = df[df['gen'] == 'Masculino']\n",
        "((len(df['gen']) - len(gen_masc))/len(df['gen'])*100)"
      ],
      "metadata": {
        "colab": {
          "base_uri": "https://localhost:8080/"
        },
        "id": "RQgfA-VYIBG-",
        "outputId": "92b499fc-335e-42db-816a-196f4be77fc4"
      },
      "execution_count": null,
      "outputs": [
        {
          "output_type": "execute_result",
          "data": {
            "text/plain": [
              "19.139868268113133"
            ]
          },
          "metadata": {},
          "execution_count": 129
        }
      ]
    },
    {
      "cell_type": "markdown",
      "source": [
        "**19% dos profissionais NÃO são do gênero masculino, ou seja, são mulheres ou de outros gêneros**"
      ],
      "metadata": {
        "id": "y6Zf979YvCc5"
      }
    },
    {
      "cell_type": "code",
      "source": [
        "gen_fem = df[df['gen'] == 'Feminino']\n",
        "n_feminino = ((len(df['gen']) - len(gen_fem))/len(df['gen'])*100)\n",
        "(100-n_feminino) "
      ],
      "metadata": {
        "colab": {
          "base_uri": "https://localhost:8080/"
        },
        "id": "mnPu0uuzIaY3",
        "outputId": "942b1b4d-4bb8-42e6-ae91-dbee104e2ed6"
      },
      "execution_count": null,
      "outputs": [
        {
          "output_type": "execute_result",
          "data": {
            "text/plain": [
              "18.829910887252993"
            ]
          },
          "metadata": {},
          "execution_count": 130
        }
      ]
    },
    {
      "cell_type": "markdown",
      "source": [
        "**18.82%, aproximadamente,  dos profissionais são do gênero feminino**"
      ],
      "metadata": {
        "id": "EhATU-_lvOT4"
      }
    },
    {
      "cell_type": "code",
      "source": [
        "plt.hist(df['gen'], bins=3, width=0.5)"
      ],
      "metadata": {
        "colab": {
          "base_uri": "https://localhost:8080/",
          "height": 317
        },
        "id": "pdQq6lYmJw0J",
        "outputId": "4cb58db7-4bdc-4e4a-c976-a28ed59763a6"
      },
      "execution_count": null,
      "outputs": [
        {
          "output_type": "execute_result",
          "data": {
            "text/plain": [
              "(array([2087.,  486.,    8.]),\n",
              " array([0.        , 0.66666667, 1.33333333, 2.        ]),\n",
              " <a list of 3 Patch objects>)"
            ]
          },
          "metadata": {},
          "execution_count": 131
        },
        {
          "output_type": "display_data",
          "data": {
            "text/plain": [
              "<Figure size 432x288 with 1 Axes>"
            ],
            "image/png": "[encoded data removed]"
          },
          "metadata": {
            "needs_background": "light"
          }
        }
      ]
    },
    {
      "cell_type": "markdown",
      "source": [
        "# Analisando a variável Regiao"
      ],
      "metadata": {
        "id": "2-X5ibSyK0AZ"
      }
    },
    {
      "cell_type": "markdown",
      "source": [
        "## A maior parte dos entrevistados moram em qual Estado?"
      ],
      "metadata": {
        "id": "CJkwfDeGvkrv"
      }
    },
    {
      "cell_type": "code",
      "source": [
        "df['onde_mora'].value_counts()"
      ],
      "metadata": {
        "colab": {
          "base_uri": "https://localhost:8080/"
        },
        "id": "s3u23RUAKqwH",
        "outputId": "c8d54287-770d-480c-b7fb-3014fc25e1de"
      },
      "execution_count": null,
      "outputs": [
        {
          "output_type": "execute_result",
          "data": {
            "text/plain": [
              "São Paulo (SP)              1067\n",
              "Minas Gerais (MG)            336\n",
              "Rio de Janeiro (RJ)          219\n",
              "Paraná (PR)                  148\n",
              "Rio Grande do Sul (RS)       135\n",
              "Santa Catarina (SC)          114\n",
              "Distrito Federal (DF)         92\n",
              "Ceará (CE)                    67\n",
              "Pernambuco (PE)               58\n",
              "Bahia (BA)                    58\n",
              "Goiás (GO)                    57\n",
              "Fora do Brasil                51\n",
              "Paraíba (PB)                  38\n",
              "Espírito Santo (ES)           32\n",
              "Rio Grande do Norte (RN)      22\n",
              "Sergipe (SE)                  20\n",
              "Mato Grosso (MT)              19\n",
              "Alagoas (AL)                  14\n",
              "Piauí (PI)                    13\n",
              "Mato Grosso do Sul (MS)       12\n",
              "Maranhão (MA)                  9\n",
              "Name: onde_mora, dtype: int64"
            ]
          },
          "metadata": {},
          "execution_count": 161
        }
      ]
    },
    {
      "cell_type": "code",
      "source": [
        "df[df['uf']=='Exterior'] = 'EX'"
      ],
      "metadata": {
        "colab": {
          "base_uri": "https://localhost:8080/"
        },
        "id": "94_jKZAWNQBx",
        "outputId": "1fc167a5-2513-4319-b0ef-8fc259617f2e"
      },
      "execution_count": null,
      "outputs": [
        {
          "output_type": "stream",
          "name": "stderr",
          "text": [
            "/usr/local/lib/python3.7/dist-packages/ipykernel_launcher.py:1: SettingWithCopyWarning: \n",
            "A value is trying to be set on a copy of a slice from a DataFrame.\n",
            "Try using .loc[row_indexer,col_indexer] = value instead\n",
            "\n",
            "See the caveats in the documentation: https://pandas.pydata.org/pandas-docs/stable/user_guide/indexing.html#returning-a-view-versus-a-copy\n",
            "  \"\"\"Entry point for launching an IPython kernel.\n",
            "/usr/local/lib/python3.7/dist-packages/pandas/core/indexing.py:1817: SettingWithCopyWarning: \n",
            "A value is trying to be set on a copy of a slice from a DataFrame.\n",
            "Try using .loc[row_indexer,col_indexer] = value instead\n",
            "\n",
            "See the caveats in the documentation: https://pandas.pydata.org/pandas-docs/stable/user_guide/indexing.html#returning-a-view-versus-a-copy\n",
            "  self._setitem_single_column(loc, value, pi)\n"
          ]
        }
      ]
    },
    {
      "cell_type": "code",
      "source": [
        "plt.hist(df['uf'], bins=21, width=0.6) "
      ],
      "metadata": {
        "colab": {
          "base_uri": "https://localhost:8080/",
          "height": 421
        },
        "id": "R8uTltozK5Ql",
        "outputId": "da8ae9c9-4e87-4b5c-8972-d389c82fcb27"
      },
      "execution_count": null,
      "outputs": [
        {
          "output_type": "execute_result",
          "data": {
            "text/plain": [
              "(array([  67.,   58.,  114., 1067.,  336.,   57.,  148.,   19.,   12.,\n",
              "          92.,   20.,  135.,  219.,   13.,   22.,   14.,   58.,   32.,\n",
              "          51.,   38.,    9.]),\n",
              " array([ 0.        ,  0.95238095,  1.9047619 ,  2.85714286,  3.80952381,\n",
              "         4.76190476,  5.71428571,  6.66666667,  7.61904762,  8.57142857,\n",
              "         9.52380952, 10.47619048, 11.42857143, 12.38095238, 13.33333333,\n",
              "        14.28571429, 15.23809524, 16.19047619, 17.14285714, 18.0952381 ,\n",
              "        19.04761905, 20.        ]),\n",
              " <a list of 21 Patch objects>)"
            ]
          },
          "metadata": {},
          "execution_count": 163
        },
        {
          "output_type": "display_data",
          "data": {
            "text/plain": [
              "<Figure size 432x288 with 1 Axes>"
            ],
            "image/png": "[encoded data removed]"
          },
          "metadata": {
            "needs_background": "light"
          }
        }
      ]
    },
    {
      "cell_type": "code",
      "source": [
        "uf_sp = df[df['uf'] == 'SP']\n",
        "n_sp = ((len(df['uf']) - len(uf_sp))/len(df['uf'])*100) \n",
        "(100-n_sp)"
      ],
      "metadata": {
        "colab": {
          "base_uri": "https://localhost:8080/"
        },
        "id": "D_SC-IICLTXz",
        "outputId": "2b7807f3-b162-4624-938a-c03f23181ab7"
      },
      "execution_count": null,
      "outputs": [
        {
          "output_type": "execute_result",
          "data": {
            "text/plain": [
              "41.340565672220066"
            ]
          },
          "metadata": {},
          "execution_count": 164
        }
      ]
    },
    {
      "cell_type": "markdown",
      "source": [
        "**Mais de 40% dos profissionais entrevistados moram em São Paulo**"
      ],
      "metadata": {
        "id": "Sp5KaeZnvxK3"
      }
    },
    {
      "cell_type": "markdown",
      "source": [
        "# Analisando a relação dos profissionais e a região em que moram"
      ],
      "metadata": {
        "id": "Jqh_X5lTSZpB"
      }
    },
    {
      "cell_type": "markdown",
      "source": [
        "## Em qual região do Brasil a maioria dos profissionais moram?"
      ],
      "metadata": {
        "id": "uZPSoFF9wDgI"
      }
    },
    {
      "cell_type": "code",
      "source": [
        "df['regiao_do_BR'].value_counts()"
      ],
      "metadata": {
        "colab": {
          "base_uri": "https://localhost:8080/"
        },
        "id": "lbmVQ0leOcGj",
        "outputId": "c3ffce68-f4a1-4957-da13-e3bde8f86cbb"
      },
      "execution_count": null,
      "outputs": [
        {
          "output_type": "execute_result",
          "data": {
            "text/plain": [
              "Sudeste         1654\n",
              "Sul              397\n",
              "Nordeste         299\n",
              "Centro-oeste     180\n",
              "EX                51\n",
              "Name: regiao_do_BR, dtype: int64"
            ]
          },
          "metadata": {},
          "execution_count": 168
        }
      ]
    },
    {
      "cell_type": "code",
      "source": [
        "sudeste = df[df['regiao_do_BR'] == 'Sudeste']\n",
        "sudeste = ((len(df['regiao_do_BR']) - len(sudeste))/len(df['regiao_do_BR'])*100) #64% dos entrevistados são da região sudeste\n",
        "(100-sudeste)"
      ],
      "metadata": {
        "colab": {
          "base_uri": "https://localhost:8080/"
        },
        "id": "crFkSscISgT4",
        "outputId": "8b2b49db-4b33-4b42-de2e-46115c1840bd"
      },
      "execution_count": null,
      "outputs": [
        {
          "output_type": "execute_result",
          "data": {
            "text/plain": [
              "64.08368849283224"
            ]
          },
          "metadata": {},
          "execution_count": 169
        }
      ]
    },
    {
      "cell_type": "markdown",
      "source": [
        "**60% dos profissionais moram na região sudeste**"
      ],
      "metadata": {
        "id": "U9q3VcR8wMFn"
      }
    },
    {
      "cell_type": "code",
      "source": [
        "plt.hist(df['regiao_do_BR'], bins=5, width=0.7)"
      ],
      "metadata": {
        "colab": {
          "base_uri": "https://localhost:8080/",
          "height": 317
        },
        "id": "4lih3bcbSyOb",
        "outputId": "17f77308-f846-44c7-f194-eae45715aba1"
      },
      "execution_count": null,
      "outputs": [
        {
          "output_type": "execute_result",
          "data": {
            "text/plain": [
              "(array([ 299.,  397., 1654.,  180.,   51.]),\n",
              " array([0. , 0.8, 1.6, 2.4, 3.2, 4. ]),\n",
              " <a list of 5 Patch objects>)"
            ]
          },
          "metadata": {},
          "execution_count": 170
        },
        {
          "output_type": "display_data",
          "data": {
            "text/plain": [
              "<Figure size 432x288 with 1 Axes>"
            ],
            "image/png": "[encoded data removed]"
          },
          "metadata": {
            "needs_background": "light"
          }
        }
      ]
    },
    {
      "cell_type": "markdown",
      "source": [
        "# Analisando a variável Escolaridade"
      ],
      "metadata": {
        "id": "hsumbIYFTZF8"
      }
    },
    {
      "cell_type": "markdown",
      "source": [
        "## Qual é a escolaridade da maioria dos profissionais de dados?"
      ],
      "metadata": {
        "id": "BDF2lYbbwcyt"
      }
    },
    {
      "cell_type": "code",
      "source": [
        "df['educacao'].value_counts()"
      ],
      "metadata": {
        "colab": {
          "base_uri": "https://localhost:8080/"
        },
        "id": "hqn5NsUVTP2v",
        "outputId": "1d0dcd5d-910a-48b3-e3bb-1c086c824d67"
      },
      "execution_count": null,
      "outputs": [
        {
          "output_type": "execute_result",
          "data": {
            "text/plain": [
              "Graduação/Bacharelado         890\n",
              "Pós-graduação                 796\n",
              "Estudante de Graduação        378\n",
              "Mestrado                      340\n",
              "Doutorado ou Phd              115\n",
              "Não tenho graduação formal     59\n",
              "Prefiro não informar            3\n",
              "Name: educacao, dtype: int64"
            ]
          },
          "metadata": {},
          "execution_count": 253
        }
      ]
    },
    {
      "cell_type": "code",
      "source": [
        "df['educacao_letras'] = df['educacao'].copy()\n"
      ],
      "metadata": {
        "id": "3FB6HVQ_lMBc"
      },
      "execution_count": null,
      "outputs": []
    },
    {
      "cell_type": "code",
      "source": [
        "df['educacao_letras'] = df['educacao_letras'].map({'Graduação/Bacharelado':'GB',\n",
        "                             'Pós-graduação':'PG',\n",
        "                             'Estudante de Graduação':'EG',\n",
        "                             'Mestrado':'M',\n",
        "                             'Doutorado ou Phd':'D',\n",
        "                             'Não tenho graduação formal':'NT',\n",
        "                             'Prefiro não informar':'NI',\n",
        "                             },\n",
        "                             na_action=None)"
      ],
      "metadata": {
        "id": "J5-M-sgCyZ-W"
      },
      "execution_count": null,
      "outputs": []
    },
    {
      "cell_type": "code",
      "source": [
        "df['educacao_letras'].value_counts()"
      ],
      "metadata": {
        "colab": {
          "base_uri": "https://localhost:8080/"
        },
        "id": "0_sgnY9w28Cz",
        "outputId": "8abcbb45-a503-4f56-f756-0e064b1b7cb9"
      },
      "execution_count": null,
      "outputs": [
        {
          "output_type": "execute_result",
          "data": {
            "text/plain": [
              "GB    890\n",
              "PG    796\n",
              "EG    378\n",
              "M     340\n",
              "D     115\n",
              "NT     59\n",
              "NI      3\n",
              "Name: educacao_letras, dtype: int64"
            ]
          },
          "metadata": {},
          "execution_count": 256
        }
      ]
    },
    {
      "cell_type": "code",
      "source": [
        "plt.hist(df['educacao_letras'], bins=8, width=0.7)"
      ],
      "metadata": {
        "colab": {
          "base_uri": "https://localhost:8080/",
          "height": 317
        },
        "id": "TNDACA1mqKhv",
        "outputId": "4bdb30a9-ede5-466f-b278-f74c68590a71"
      },
      "execution_count": null,
      "outputs": [
        {
          "output_type": "execute_result",
          "data": {
            "text/plain": [
              "(array([796., 378., 890.,   0., 340., 115.,  59.,   3.]),\n",
              " array([0.  , 0.75, 1.5 , 2.25, 3.  , 3.75, 4.5 , 5.25, 6.  ]),\n",
              " <a list of 8 Patch objects>)"
            ]
          },
          "metadata": {},
          "execution_count": 257
        },
        {
          "output_type": "display_data",
          "data": {
            "text/plain": [
              "<Figure size 432x288 with 1 Axes>"
            ],
            "image/png": "[encoded data removed]"
          },
          "metadata": {
            "needs_background": "light"
          }
        }
      ]
    },
    {
      "cell_type": "code",
      "source": [
        "graduados = df[ (df['educacao_letras'] == 'PG') | (df['educacao_letras'] == 'GB') | (df['educacao_letras'] == 'M') | (df['educacao_letras'] == 'D')]\n",
        "n_graduados = ((len(df['educacao_letras']) - len(graduados))/len(df['educacao_letras'])*100) \n",
        "(100-n_graduados)"
      ],
      "metadata": {
        "colab": {
          "base_uri": "https://localhost:8080/"
        },
        "id": "x78JHq_-ry4b",
        "outputId": "4cf5f282-3fa0-40e8-d934-878492da0227"
      },
      "execution_count": null,
      "outputs": [
        {
          "output_type": "execute_result",
          "data": {
            "text/plain": [
              "82.95234405269275"
            ]
          },
          "metadata": {},
          "execution_count": 258
        }
      ]
    },
    {
      "cell_type": "markdown",
      "source": [
        "**Aproximadamente 83% dos profissionais tem a graduação completa**"
      ],
      "metadata": {
        "id": "tBJEbb6r3rq2"
      }
    }
  ]
}